{
 "cells": [
  {
   "cell_type": "code",
   "execution_count": 1,
   "metadata": {},
   "outputs": [],
   "source": [
    "# Import Libraries\n",
    "import numpy as np\n",
    "import pandas as pd\n",
    "\n",
    "from collections import defaultdict\n",
    "import threading\n",
    "import time"
   ]
  },
  {
   "cell_type": "code",
   "execution_count": 5,
   "metadata": {},
   "outputs": [],
   "source": [
    "# A pre-defined menu of food and beverages\n",
    "menu = {\n",
    "    1: {\"name\": \"Pizza\", \"price\": 10.99},\n",
    "    2: {\"name\": \"Burger\", \"price\": 8.99},\n",
    "    3: {\"name\": \"Pasta\", \"price\": 12.99},\n",
    "    4: {\"name\": \"Salad\", \"price\": 6.99},\n",
    "    5: {\"name\": \"Soda\", \"price\": 1.99},\n",
    "    6: {\"name\": \"Coffee\", \"price\": 2.99},\n",
    "}"
   ]
  },
  {
   "cell_type": "code",
   "execution_count": 6,
   "metadata": {},
   "outputs": [],
   "source": [
    "# A Dict to store orders by food item:\n",
    "order_queue = defaultdict(list)"
   ]
  },
  {
   "cell_type": "code",
   "execution_count": 7,
   "metadata": {},
   "outputs": [],
   "source": [
    "# Function to dispatch orders after 15 seconds\n",
    "def dispatch_orders(food_item):\n",
    "    print(f\"\\nDispatching order for {food_item}:\")\n",
    "    for order in order_queue[food_item]:\n",
    "        print(f\" - Deliver to Table {order['table']} (ordered at {time.ctime(order['timestamp'])})\")\n",
    "    # Clear the orders for the food item after dispatch\n",
    "    order_queue[food_item].clear()\n",
    "\n",
    "# Function to queue order and set 15-second timer for dispatch\n",
    "def queue_order(food_item, table):\n",
    "    current_time = time.time()\n",
    "    order = {\"table\": table, \"timestamp\": current_time}\n",
    "    # Add the order to the queue for the specified food item\n",
    "    order_queue[food_item].append(order)\n",
    "    # If this is the first order for this item, start a 15-second timer to dispatch\n",
    "    if len(order_queue[food_item]) == 1:\n",
    "        print(f\"\\nNew order received for {food_item}. Starting a 15-second countdown.\")\n",
    "        threading.Timer(0.25 * 60, dispatch_orders, [food_item]).start()  # 15-second countdown\n",
    "    else:\n",
    "        print(f\"Similar order for {food_item} added to existing batch.\")\n",
    "\n",
    "# Function to display the menu\n",
    "def display_menu():\n",
    "    print(\"\\n--- Menu ---\")\n",
    "    for item_id, details in menu.items():\n",
    "        print(f\"{item_id}. {details['name']} - ${details['price']:.2f}\")\n",
    "\n",
    "# Function to take an order from the customer\n",
    "def take_order():\n",
    "    display_menu()\n",
    "    try:\n",
    "        item_number = int(input(\"\\nEnter the number of the food item you want to order: \"))\n",
    "        if item_number not in menu:\n",
    "            print(\"Invalid selection. Please choose a valid item from the menu.\")\n",
    "            return\n",
    "        table = input(\"Enter Table number: \")\n",
    "        food_item = menu[item_number][\"name\"]\n",
    "        queue_order(food_item, table)\n",
    "        print(f\"Order for {food_item} at table {table} has been placed.\")\n",
    "    except ValueError:\n",
    "        print(\"Please enter a valid number.\")\n",
    "\n",
    "# User-driven interaction for managing orders\n",
    "def simulation():\n",
    "    while True:\n",
    "        print(\"\\nChoose an action:\")\n",
    "        print(\"1. Place an Order\")\n",
    "        print(\"2. View Active Orders\")\n",
    "        print(\"3. Exit Simulation\")\n",
    "\n",
    "        choice = input(\"\\nEnter choice (1-3): \")\n",
    "\n",
    "        if choice == '1':\n",
    "            take_order()\n",
    "        elif choice == '2':\n",
    "            view_active_orders()\n",
    "        elif choice == '3':\n",
    "            print(\"\\nExiting simulation.\")\n",
    "            break\n",
    "        else:\n",
    "            print(\"\\nInvalid choice. Please try again.\")\n",
    "\n",
    "# Function to view all active orders\n",
    "def view_active_orders():\n",
    "    if not order_queue:\n",
    "        print(\"\\nNo active orders.\")\n",
    "    else:\n",
    "        for food_item, orders in order_queue.items():\n",
    "            print(f\"\\n{food_item} Orders:\")\n",
    "            for order in orders:\n",
    "                print(f\" - Table {order['table']}, ordered at {time.ctime(order['timestamp'])}\")\n"
   ]
  },
  {
   "cell_type": "code",
   "execution_count": 8,
   "metadata": {},
   "outputs": [
    {
     "name": "stdout",
     "output_type": "stream",
     "text": [
      "\n",
      "Choose an action:\n",
      "1. Place an Order\n",
      "2. View Active Orders\n",
      "3. Exit Simulation\n",
      "\n",
      "--- Menu ---\n",
      "1. Pizza - $10.99\n",
      "2. Burger - $8.99\n",
      "3. Pasta - $12.99\n",
      "4. Salad - $6.99\n",
      "5. Soda - $1.99\n",
      "6. Coffee - $2.99\n",
      "\n",
      "New order received for Pasta. Starting a 15-second countdown.\n",
      "Order for Pasta at table 4 has been placed.\n",
      "\n",
      "Choose an action:\n",
      "1. Place an Order\n",
      "2. View Active Orders\n",
      "3. Exit Simulation\n",
      "\n",
      "--- Menu ---\n",
      "1. Pizza - $10.99\n",
      "2. Burger - $8.99\n",
      "3. Pasta - $12.99\n",
      "4. Salad - $6.99\n",
      "5. Soda - $1.99\n",
      "6. Coffee - $2.99\n",
      "\n",
      "Dispatching order for Pasta:\n",
      " - Deliver to Table 4 (ordered at Sat Sep  7 00:45:23 2024)\n",
      "\n",
      "New order received for Coffee. Starting a 15-second countdown.\n",
      "Order for Coffee at table 3 has been placed.\n",
      "\n",
      "Choose an action:\n",
      "1. Place an Order\n",
      "2. View Active Orders\n",
      "3. Exit Simulation\n",
      "\n",
      "Exiting simulation.\n"
     ]
    },
    {
     "name": "stdout",
     "output_type": "stream",
     "text": [
      "\n",
      "Dispatching order for Coffee:\n",
      " - Deliver to Table 3 (ordered at Sat Sep  7 00:45:55 2024)\n"
     ]
    }
   ],
   "source": [
    "# Run the improved simulation\n",
    "simulation()"
   ]
  }
 ],
 "metadata": {
  "kernelspec": {
   "display_name": "learn-env",
   "language": "python",
   "name": "python3"
  },
  "language_info": {
   "codemirror_mode": {
    "name": "ipython",
    "version": 3
   },
   "file_extension": ".py",
   "mimetype": "text/x-python",
   "name": "python",
   "nbconvert_exporter": "python",
   "pygments_lexer": "ipython3",
   "version": "3.8.5"
  }
 },
 "nbformat": 4,
 "nbformat_minor": 2
}
