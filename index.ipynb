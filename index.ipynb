{
 "cells": [
  {
   "cell_type": "code",
   "execution_count": 17,
   "metadata": {},
   "outputs": [],
   "source": [
    "# Import Libraries\n",
    "import numpy as np\n",
    "import pandas as pd\n",
    "\n",
    "from collections import defaultdict\n",
    "import threading\n",
    "import time"
   ]
  },
  {
   "cell_type": "code",
   "execution_count": 18,
   "metadata": {},
   "outputs": [],
   "source": [
    "# A Dict to store orders by food item:\n",
    "order_queue = defaultdict(list)"
   ]
  },
  {
   "cell_type": "markdown",
   "metadata": {},
   "source": [
    "### Helper Functions:\n",
    "* `dispatch_orders()`:\\\n",
    "Function to dispatch the orders after 5 minutes.\\\n",
    "Dispatches the orders for a particular food item once the 5-minute timer expires.\n"
   ]
  },
  {
   "cell_type": "code",
   "execution_count": 19,
   "metadata": {},
   "outputs": [],
   "source": [
    "# Function to Dispatch order after 5 minutes\n",
    "def dispatch_orders(food_item):\n",
    "    print(f\"Dispatching order for {food_item}:\")\n",
    "    for order in order_queue[food_item]:\n",
    "        print(f\" - deliver to Table {order['table']} (ordered at {order['timestamp']})\")\n",
    "    # Clear the order for the food item after dispatch\n",
    "    order_queue[food_item].clear()"
   ]
  },
  {
   "cell_type": "markdown",
   "metadata": {},
   "source": [
    "* `queue_order()`: \\\n",
    "Function to queue an order. If a similar order is already waiting to be dispatched, it gets grouped with the existing orders.\\\n",
    "Queues the order and checks if a similar order is already in the queue within 5 minutes.\n"
   ]
  },
  {
   "cell_type": "code",
   "execution_count": 20,
   "metadata": {},
   "outputs": [],
   "source": [
    "# threading.Timer()`: Starts a countdown for 5 minutes for each batch of similar orders.\n",
    "def queue_order(food_item, table):\n",
    "    current_time = time.time()\n",
    "    order = {\"table\": table, \"timestamp\": current_time}\n",
    "    # Add the order to the queue for the specified food item\n",
    "    order_queue[food_item].append(order)\n",
    "    # If this is the first order for this item, start a 5-minute timer to dispatch\n",
    "    if len(order_queue[food_item]) == 1:\n",
    "        print(f\"New order received for {food_item}. Starting a 5-minute countdown.\")\n",
    "        threading.Timer(0.1 * 60, dispatch_orders, [food_item]).start()  # 5-minute countdown\n",
    "    else:\n",
    "        print(f\"Similar order for {food_item} added to existing batch.\")"
   ]
  },
  {
   "cell_type": "markdown",
   "metadata": {},
   "source": [
    "* `take_order()`:\\\n",
    "Function to take order from the customer."
   ]
  },
  {
   "cell_type": "code",
   "execution_count": 21,
   "metadata": {},
   "outputs": [],
   "source": [
    "def take_order():\n",
    "    food_item = input(\"Enter Food Item: \")\n",
    "    table = input(\"Enter Table number: \")\n",
    "    queue_order(food_item, table)\n",
    "    print(f\"Order for {food_item} at table {table} has been placed.\")"
   ]
  },
  {
   "cell_type": "code",
   "execution_count": 22,
   "metadata": {},
   "outputs": [
    {
     "name": "stdout",
     "output_type": "stream",
     "text": [
      "New order received for Pizza. Starting a 5-minute countdown.\n"
     ]
    },
    {
     "name": "stdout",
     "output_type": "stream",
     "text": [
      "Dispatching order for Pizza:\n",
      " - deliver to Table 5 (ordered at 1725559569.01299)\n"
     ]
    }
   ],
   "source": [
    "# Simulate taking orders\n",
    "queue_order(\"Pizza\", 5)"
   ]
  }
 ],
 "metadata": {
  "kernelspec": {
   "display_name": "learn-env",
   "language": "python",
   "name": "python3"
  },
  "language_info": {
   "codemirror_mode": {
    "name": "ipython",
    "version": 3
   },
   "file_extension": ".py",
   "mimetype": "text/x-python",
   "name": "python",
   "nbconvert_exporter": "python",
   "pygments_lexer": "ipython3",
   "version": "3.8.5"
  }
 },
 "nbformat": 4,
 "nbformat_minor": 2
}
